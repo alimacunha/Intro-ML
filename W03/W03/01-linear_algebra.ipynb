{
  "cells": [
    {
      "cell_type": "markdown",
      "id": "zgeyQZtaVOgreDjDgDtu1",
      "metadata": {},
      "source": [
        "# Linear Algebra\n",
        "\n",
        "**Overview**\n",
        "This exercise introduces fundamental linear algebra operations in Numpy and how to use them to solve linear systems of equations. The goal is to get familiarized with the concepts of linear algebra and how to use them in Numpy.\n",
        "\n",
        "\n",
        "<article class=\"message\">\n",
        "    <div class=\"message-body\">\n",
        "        <strong>List of individual tasks</strong>\n",
        "        <ul style=\"list-style: none;\">\n",
        "            <li>\n",
        "            <a href=\"#diff\">Task 1: Elementwise difference</a>\n",
        "            </li>\n",
        "            <li>\n",
        "            <a href=\"#mul_prop\">Task 2: Multiplication properties</a>\n",
        "            </li>\n",
        "            <li>\n",
        "            <a href=\"#elem_mul\">Task 3: Elementwise multiplication - Hadamard pr…</a>\n",
        "            </li>\n",
        "        </ul>\n",
        "    </div>\n",
        "</article>\n",
        "\n",
        "The cell below defines matrices `A`\n",
        ", `B`\n",
        ", `C`\n",
        ", `D`\n",
        ", `E`\n",
        " that are used throughout the exercise:\n"
      ]
    },
    {
      "cell_type": "code",
      "execution_count": 3,
      "id": "C2-Ot4lv8qF_4reY7DMUT",
      "metadata": {},
      "outputs": [],
      "source": [
        "import numpy as np\n",
        "import matplotlib.pyplot as plt"
      ]
    },
    {
      "cell_type": "markdown",
      "id": "fe05kxS6N3xDebBr-lb0d",
      "metadata": {},
      "source": []
    },
    {
      "cell_type": "code",
      "execution_count": 4,
      "id": "pze-sM57DXXdeagvwn69b",
      "metadata": {},
      "outputs": [],
      "source": [
        "# Define matrices to be used in the tasks:\n",
        "A = np.array([\n",
        "    [1, 0.5, 1/3, 0.25],\n",
        "    [0.5, 1/3, 0.25, 0.2],\n",
        "    [1/3, 0.25, 0.2, 1/6],\n",
        "    [0.25, 0.2, 1/6, 1/7]\n",
        "])\n",
        "\n",
        "B = np.array([\n",
        "    [-16, 15, -14, 13],\n",
        "    [-12, 11, -10, 9],\n",
        "    [-8, 7, -6, 5],\n",
        "    [-4, 3, -2, 1]\n",
        "])\n",
        "\n",
        "C = np.array([\n",
        "    [1, 1/2, 1/3, 1/4],\n",
        "    [1/2, 1/3, 1/4, 1/5],\n",
        "    [1/3, 1/5, 1/7, 1/9],\n",
        "    [1/4, 1/7, 1/8, 1/9],\n",
        "])\n",
        "\n",
        "D = np.array([\n",
        "    [2, 4, 5/2],\n",
        "    [-3/4, 2, 0.25],\n",
        "    [0.25, 0.5, 2]\n",
        "])\n",
        "\n",
        "E = np.array([\n",
        "    [1, -0.5],\n",
        "    [3/2, 0.5],\n",
        "    [0.25, 1]\n",
        "])"
      ]
    },
    {
      "cell_type": "markdown",
      "id": "1w6bZf2S3jlspPZPdOiOL",
      "metadata": {},
      "source": [
        "## Matrix Operations\n",
        "\n",
        "---\n",
        "**Task 1 (easy): Elementwise difference👩‍💻**\n",
        "1. Calculate $A-B$ in the code cell below.\n",
        "\n",
        "\n",
        "---"
      ]
    },
    {
      "cell_type": "code",
      "execution_count": 5,
      "id": "LCCtfMNfmepJTtzDUi96F",
      "metadata": {},
      "outputs": [
        {
          "name": "stdout",
          "output_type": "stream",
          "text": [
            "[[ 17.         -14.5         14.33333333 -12.75      ]\n",
            " [ 12.5        -10.66666667  10.25        -8.8       ]\n",
            " [  8.33333333  -6.75         6.2         -4.83333333]\n",
            " [  4.25        -2.8          2.16666667  -0.85714286]]\n"
          ]
        }
      ],
      "source": [
        "# Write your solution here\n",
        "print(A-B)"
      ]
    },
    {
      "cell_type": "markdown",
      "id": "yQb9ePf7G0HPnlq8cbAAt",
      "metadata": {},
      "source": [
        "\n",
        "---\n",
        "**Task 2 (easy): Multiplication properties👩‍💻📽️**\n",
        "1. Calculate $AC$ and $CA$ in the code cell below. (You may use either [`np.dot`\n",
        "](https://numpy.org/doc/stable/reference/generated/numpy.dot.html<elem-3>.dot)\n",
        " or the `@`\n",
        " operator).\n",
        "\n",
        "2. Explain why the results are different.\n",
        "\n",
        "3. Calculate $DE$ and $ED$ in the code cell below.\n",
        "\n",
        "4. Explain what happens and why.\n",
        "\n",
        "\n",
        "\n",
        "---"
      ]
    },
    {
      "cell_type": "code",
      "execution_count": 10,
      "id": "yWxW-n_Lq8sx4TQ_zzFgP",
      "metadata": {},
      "outputs": [
        {
          "name": "stdout",
          "output_type": "stream",
          "text": [
            "[[1.42361111 0.76904762 0.53720238 0.41481481]\n",
            " [0.8        0.43968254 0.31071429 0.24166667]\n",
            " [0.56666667 0.31380952 0.22301587 0.17407407]\n",
            " [0.44126984 0.24540816 0.175      0.13689153]]\n",
            "[[1.42361111 0.8        0.56666667 0.44126984]\n",
            " [0.8        0.46361111 0.33333333 0.26190476]\n",
            " [0.50873016 0.29126984 0.20820106 0.16301587]\n",
            " [0.39087302 0.22609127 0.16256614 0.12777778]]\n",
            "[[8.625  3.5   ]\n",
            " [2.3125 1.625 ]\n",
            " [1.5    2.125 ]]\n"
          ]
        }
      ],
      "source": [
        "# Write your solution here\n",
        "print(np.dot(A,C))\n",
        "print(np.dot(C,A))\n",
        "\n",
        "# the results are different because the multiplication is different.Even though both A and C are 4×4 matrices, the order of \n",
        "# multiplication affects the result because each product combines rows from the first matrix with columns from the second.\n",
        "\n",
        "print(np.dot(D,E))\n",
        "#print(np.dot(E,D))\n",
        "\n",
        "# the second operation fails because the shape is not aligned, the ammount of rows in E is smaller than the amount of columns of D so it breaks"
      ]
    },
    {
      "cell_type": "markdown",
      "id": "l0RqnPAg8kMqPdrVrySDv",
      "metadata": {},
      "source": [
        "\n",
        "---\n",
        "**Task 3 (easy): Elementwise multiplication - Hadamard product👩‍💻**\n",
        "1. Calculate the elementwise multiplication of $A$ and $C$ using the `*`\n",
        " operator.\n",
        "2. Explain the difference between the `*`\n",
        " and `@`\n",
        " operators and identify which one is matrix multiplication.\n",
        "\n",
        "\n",
        "---"
      ]
    },
    {
      "cell_type": "code",
      "execution_count": null,
      "id": "iN42xJk0MLetIal4Qy_As",
      "metadata": {},
      "outputs": [
        {
          "name": "stdout",
          "output_type": "stream",
          "text": [
            "[[-16.           7.5         -4.66666667   3.25      ]\n",
            " [ -6.           3.66666667  -2.5          1.8       ]\n",
            " [ -2.66666667   1.75        -1.2          0.83333333]\n",
            " [ -1.           0.6         -0.33333333   0.14285714]]\n"
          ]
        }
      ],
      "source": [
        "# Write your solution here\n",
        "A = np.array([\n",
        "    [1, 0.5, 1/3, 0.25],\n",
        "    [0.5, 1/3, 0.25, 0.2],\n",
        "    [1/3, 0.25, 0.2, 1/6],\n",
        "    [0.25, 0.2, 1/6, 1/7]\n",
        "])\n",
        "\n",
        "B = np.array([\n",
        "    [-16, 15, -14, 13],\n",
        "    [-12, 11, -10, 9],\n",
        "    [-8, 7, -6, 5],\n",
        "    [-4, 3, -2, 1]\n",
        "])\n",
        "\n",
        "print(A * B)\n",
        "\n",
        "# the @ is matrix multiplication. The * multiplies every element with the correspondign element in the other matrix."
      ]
    },
    {
      "cell_type": "markdown",
      "id": "5S5457EnDqkWz5SkhtmyT",
      "metadata": {},
      "source": [
        "---\n"
      ]
    }
  ],
  "metadata": {
    "kernelspec": {
      "display_name": "damin2025",
      "language": "python",
      "name": "python3"
    },
    "language_info": {
      "codemirror_mode": {
        "name": "ipython",
        "version": 3
      },
      "file_extension": ".py",
      "mimetype": "text/x-python",
      "name": "python",
      "nbconvert_exporter": "python",
      "pygments_lexer": "ipython3",
      "version": "3.12.11"
    }
  },
  "nbformat": 4,
  "nbformat_minor": 5
}
